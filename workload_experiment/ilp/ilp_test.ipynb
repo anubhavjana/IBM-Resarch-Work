{
 "cells": [
  {
   "cell_type": "code",
   "execution_count": 1,
   "metadata": {},
   "outputs": [],
   "source": [
    "import pulp"
   ]
  },
  {
   "cell_type": "code",
   "execution_count": 2,
   "metadata": {},
   "outputs": [
    {
     "data": {
      "text/plain": [
       "['CHOCO_CMD',\n",
       " 'COIN',\n",
       " 'COINMP_DLL',\n",
       " 'COINMP_DLL_load_dll',\n",
       " 'COIN_CMD',\n",
       " 'COPT',\n",
       " 'COPT_CMD',\n",
       " 'COPT_DLL',\n",
       " 'COPT_DLL_loadlib',\n",
       " 'CPLEX',\n",
       " 'CPLEX_CMD',\n",
       " 'CPLEX_PY',\n",
       " 'Counter',\n",
       " 'DIRNAME',\n",
       " 'Dict',\n",
       " 'EPS',\n",
       " 'FSCIP',\n",
       " 'FSCIP_CMD',\n",
       " 'FixedElasticSubProblem',\n",
       " 'FractionElasticSubProblem',\n",
       " 'GLPK',\n",
       " 'GLPK_CMD',\n",
       " 'GUROBI',\n",
       " 'GUROBI_CMD',\n",
       " 'HiGHS',\n",
       " 'HiGHS_CMD',\n",
       " 'Iterable',\n",
       " 'List',\n",
       " 'LpAffineExpression',\n",
       " 'LpBinary',\n",
       " 'LpCategories',\n",
       " 'LpConstraint',\n",
       " 'LpConstraintEQ',\n",
       " 'LpConstraintGE',\n",
       " 'LpConstraintLE',\n",
       " 'LpConstraintSenses',\n",
       " 'LpConstraintTypeToMps',\n",
       " 'LpConstraintVar',\n",
       " 'LpContinuous',\n",
       " 'LpCplexLPLineSize',\n",
       " 'LpElement',\n",
       " 'LpFractionConstraint',\n",
       " 'LpInteger',\n",
       " 'LpMaximize',\n",
       " 'LpMinimize',\n",
       " 'LpProblem',\n",
       " 'LpSenses',\n",
       " 'LpSensesMPS',\n",
       " 'LpSolution',\n",
       " 'LpSolutionInfeasible',\n",
       " 'LpSolutionIntegerFeasible',\n",
       " 'LpSolutionNoSolutionFound',\n",
       " 'LpSolutionOptimal',\n",
       " 'LpSolutionUnbounded',\n",
       " 'LpSolver',\n",
       " 'LpSolverDefault',\n",
       " 'LpSolver_CMD',\n",
       " 'LpStatus',\n",
       " 'LpStatusInfeasible',\n",
       " 'LpStatusNotSolved',\n",
       " 'LpStatusOptimal',\n",
       " 'LpStatusToSolution',\n",
       " 'LpStatusUnbounded',\n",
       " 'LpStatusUndefined',\n",
       " 'LpVariable',\n",
       " 'MIPCL_CMD',\n",
       " 'MOSEK',\n",
       " 'Optional',\n",
       " 'OrderedDict',\n",
       " 'PULPCFGFILE',\n",
       " 'PULP_CBC_CMD',\n",
       " 'PYGLPK',\n",
       " 'Parser',\n",
       " 'PulpError',\n",
       " 'PulpSolverError',\n",
       " 'SCIP',\n",
       " 'SCIP_CMD',\n",
       " 'SCIP_PY',\n",
       " 'Tuple',\n",
       " 'Union',\n",
       " 'VERSION',\n",
       " 'XPRESS',\n",
       " 'XPRESS_CMD',\n",
       " 'XPRESS_PY',\n",
       " 'YAPOSIB',\n",
       " '__builtins__',\n",
       " '__cached__',\n",
       " '__doc__',\n",
       " '__file__',\n",
       " '__loader__',\n",
       " '__name__',\n",
       " '__package__',\n",
       " '__path__',\n",
       " '__spec__',\n",
       " '__version__',\n",
       " 'allcombinations',\n",
       " 'allpermutations',\n",
       " 'apis',\n",
       " 'arch',\n",
       " 'byref',\n",
       " 'cbc_path',\n",
       " 'choco_api',\n",
       " 'clock',\n",
       " 'coinMP_path',\n",
       " 'coin_api',\n",
       " 'collections',\n",
       " 'combination',\n",
       " 'configSolvers',\n",
       " 'config_filename',\n",
       " 'configparser',\n",
       " 'const',\n",
       " 'constants',\n",
       " 'copt_api',\n",
       " 'coptctype',\n",
       " 'coptlpstat',\n",
       " 'coptobjsen',\n",
       " 'coptrsense',\n",
       " 'coptstr',\n",
       " 'core',\n",
       " 'cplex_api',\n",
       " 'cplex_dll_path',\n",
       " 'ctypes',\n",
       " 'ctypesArrayFill',\n",
       " 'devnull',\n",
       " 'fscip_path',\n",
       " 'getSolver',\n",
       " 'getSolverFromDict',\n",
       " 'getSolverFromJson',\n",
       " 'glpk',\n",
       " 'glpk_api',\n",
       " 'glpk_path',\n",
       " 'gp',\n",
       " 'gurobi_api',\n",
       " 'gurobi_path',\n",
       " 'highs_api',\n",
       " 'ilm_cplex_license',\n",
       " 'ilm_cplex_license_signature',\n",
       " 'inf',\n",
       " 'initialize',\n",
       " 'isNumber',\n",
       " 'is_64bits',\n",
       " 'isiterable',\n",
       " 'itertools',\n",
       " 'json',\n",
       " 'listSolvers',\n",
       " 'log',\n",
       " 'logging',\n",
       " 'lpDot',\n",
       " 'lpSum',\n",
       " 'makeDict',\n",
       " 'maketrans',\n",
       " 'math',\n",
       " 'mipcl_api',\n",
       " 'mktemp',\n",
       " 'mosek_api',\n",
       " 'mps_lp',\n",
       " 'mpslp',\n",
       " 'operating_system',\n",
       " 'operator',\n",
       " 'os',\n",
       " 'permutation',\n",
       " 'platform',\n",
       " 'pulp',\n",
       " 'pulpTestAll',\n",
       " 'pulp_cbc_path',\n",
       " 're',\n",
       " 'read_table',\n",
       " 'resource_clock',\n",
       " 'scip_api',\n",
       " 'scip_path',\n",
       " 'setConfigInformation',\n",
       " 'shutil',\n",
       " 'sparse',\n",
       " 'splitDict',\n",
       " 'subprocess',\n",
       " 'sys',\n",
       " 'tests',\n",
       " 'time',\n",
       " 'to_string',\n",
       " 'utilities',\n",
       " 'uuid4',\n",
       " 'value',\n",
       " 'valueOrDefault',\n",
       " 'warnings',\n",
       " 'xpress',\n",
       " 'xpress_api',\n",
       " 'yaposib']"
      ]
     },
     "execution_count": 2,
     "metadata": {},
     "output_type": "execute_result"
    }
   ],
   "source": [
    "dir(pulp)"
   ]
  },
  {
   "cell_type": "code",
   "execution_count": 7,
   "metadata": {},
   "outputs": [],
   "source": [
    "# Decision Variables\n",
    "\n",
    "x = pulp.LpVariable('x',lowBound=0)\n",
    "y = pulp.LpVariable('y',lowBound=0)\n",
    "\n"
   ]
  },
  {
   "cell_type": "code",
   "execution_count": 16,
   "metadata": {},
   "outputs": [],
   "source": [
    "# Objective Function Z = 5X + 10Y --> Maximize\n",
    "\n",
    "max_z = pulp.LpProblem(\"Maximize_Z\",pulp.LpMaximize)"
   ]
  },
  {
   "cell_type": "code",
   "execution_count": 17,
   "metadata": {},
   "outputs": [],
   "source": [
    "max_z += 7*x + 11*y"
   ]
  },
  {
   "cell_type": "code",
   "execution_count": 18,
   "metadata": {},
   "outputs": [
    {
     "name": "stdout",
     "output_type": "stream",
     "text": [
      "Maximize_Z:\n",
      "MAXIMIZE\n",
      "7*x + 11*y + 0\n",
      "SUBJECT TO\n",
      "_C1: x + 2 y <= 120\n",
      "\n",
      "_C2: x + y >= 60\n",
      "\n",
      "_C3: x - 2 y >= 0\n",
      "\n",
      "VARIABLES\n",
      "x Continuous\n",
      "y Continuous\n",
      "\n"
     ]
    }
   ],
   "source": [
    "# Constraints \n",
    "\n",
    "max_z += 1*x + 2*y<=120\n",
    "max_z += x + y>=60\n",
    "max_z += x-2*y >=0\n",
    "\n",
    "print(max_z)"
   ]
  },
  {
   "cell_type": "code",
   "execution_count": 19,
   "metadata": {},
   "outputs": [
    {
     "data": {
      "text/plain": [
       "'Not Solved'"
      ]
     },
     "execution_count": 19,
     "metadata": {},
     "output_type": "execute_result"
    }
   ],
   "source": [
    "# Check for status \n",
    "\n",
    "pulp.LpStatus[max_z.status]"
   ]
  },
  {
   "cell_type": "code",
   "execution_count": 20,
   "metadata": {},
   "outputs": [
    {
     "name": "stdout",
     "output_type": "stream",
     "text": [
      "Welcome to the CBC MILP Solver \n",
      "Version: 2.10.3 \n",
      "Build Date: Dec 15 2019 \n",
      "\n",
      "command line - /Users/anubhavjana/Library/Python/3.9/lib/python/site-packages/pulp/solverdir/cbc/osx/64/cbc /var/folders/zn/7sy_4fz15hb3sw0ky0kn30l40000gn/T/c9f900819ad84873911274514f6d1137-pulp.mps -max -timeMode elapsed -branch -printingOptions all -solution /var/folders/zn/7sy_4fz15hb3sw0ky0kn30l40000gn/T/c9f900819ad84873911274514f6d1137-pulp.sol (default strategy 1)\n",
      "At line 2 NAME          MODEL\n",
      "At line 3 ROWS\n",
      "At line 8 COLUMNS\n",
      "At line 17 RHS\n",
      "At line 21 BOUNDS\n",
      "At line 22 ENDATA\n",
      "Problem MODEL has 3 rows, 2 columns and 6 elements\n",
      "Coin0008I MODEL read with 0 errors\n",
      "Option for timeMode changed from cpu to elapsed\n",
      "Presolve 0 (-3) rows, 0 (-2) columns and 0 (-6) elements\n",
      "Empty problem - 0 rows, 0 columns and 0 elements\n",
      "Optimal - objective value 840\n",
      "After Postsolve, objective 840, infeasibilities - dual 0 (0), primal 0 (0)\n",
      "Optimal objective 840 - 0 iterations time 0.002, Presolve 0.00\n",
      "Option for printingOptions changed from normal to all\n",
      "Total time (CPU seconds):       0.00   (Wallclock seconds):       0.01\n",
      "\n"
     ]
    },
    {
     "data": {
      "text/plain": [
       "1"
      ]
     },
     "execution_count": 20,
     "metadata": {},
     "output_type": "execute_result"
    }
   ],
   "source": [
    "# Solve / Optimize \n",
    "\n",
    "max_z.solve()"
   ]
  },
  {
   "cell_type": "code",
   "execution_count": 21,
   "metadata": {},
   "outputs": [
    {
     "name": "stdout",
     "output_type": "stream",
     "text": [
      "x => 120.0\n",
      "y => 0.0\n"
     ]
    }
   ],
   "source": [
    "# get the values \n",
    "\n",
    "for var in max_z.variables():\n",
    "    print(var.name,\"=>\",var.varValue)"
   ]
  },
  {
   "cell_type": "code",
   "execution_count": null,
   "metadata": {},
   "outputs": [],
   "source": []
  }
 ],
 "metadata": {
  "kernelspec": {
   "display_name": "Python 3",
   "language": "python",
   "name": "python3"
  },
  "language_info": {
   "codemirror_mode": {
    "name": "ipython",
    "version": 3
   },
   "file_extension": ".py",
   "mimetype": "text/x-python",
   "name": "python",
   "nbconvert_exporter": "python",
   "pygments_lexer": "ipython3",
   "version": "3.9.6"
  }
 },
 "nbformat": 4,
 "nbformat_minor": 2
}
